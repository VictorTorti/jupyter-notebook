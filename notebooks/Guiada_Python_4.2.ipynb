{
 "cells": [
  {
   "cell_type": "code",
   "execution_count": 1,
   "id": "9b9acd3d-9b92-4382-82c6-0f5fe2985b57",
   "metadata": {},
   "outputs": [
    {
     "name": "stdout",
     "output_type": "stream",
     "text": [
      "[1.  2.1 3.  4.2 5. ]\n",
      "[[1 2 3]\n",
      " [4 5 6]\n",
      " [7 8 9]]\n"
     ]
    }
   ],
   "source": [
    "import numpy as np\n",
    "\n",
    "x1 = np.array([1, 2.1, 3, 4.2, 5])\n",
    "x2 = np.array([ [1,2,3], [4,5,6], [7,8,9] ])\n",
    "print(x1)\n",
    "print(x2)"
   ]
  },
  {
   "cell_type": "code",
   "execution_count": 2,
   "id": "1272dcad-34ff-4e53-a94e-cb2f1e6c3e28",
   "metadata": {},
   "outputs": [
    {
     "name": "stdout",
     "output_type": "stream",
     "text": [
      "[0. 0. 0. 0. 0.]\n",
      "[[[1 1]\n",
      "  [1 1]]\n",
      "\n",
      " [[1 1]\n",
      "  [1 1]]]\n",
      "[[2.78 2.78 2.78 2.78]\n",
      " [2.78 2.78 2.78 2.78]]\n",
      "[[0.49439644 0.40578846]\n",
      " [0.12536372 0.77675254]]\n"
     ]
    }
   ],
   "source": [
    "x1 = np.zeros(5, dtype=float)\n",
    "x2 = np.ones((2,2,2), dtype=int)\n",
    "x3 = np.full((2, 4), 2.78)\n",
    "x4 = np.random.random((2, 2))\n",
    "print(x1)\n",
    "print(x2)\n",
    "print(x3)\n",
    "print(x4)"
   ]
  },
  {
   "cell_type": "code",
   "execution_count": 3,
   "id": "80781ef9-e87d-47ca-abf4-31a90129f4eb",
   "metadata": {},
   "outputs": [
    {
     "name": "stdout",
     "output_type": "stream",
     "text": [
      "3\n",
      "[0 1 2 3]\n",
      "[4 5 6 7]\n",
      "[3 4 5]\n",
      "[1 3 5 7]\n"
     ]
    }
   ],
   "source": [
    "x = np.arange(8)\n",
    "print(x[3])    # El elemento en la posición 3 (empezando desde 0)\n",
    "print(x[:4])   # Los 4 primeros elementos\n",
    "print(x[4:])   # Elementos tras el índice 4\n",
    "print(x[3:6])  # Elementos intermedios\n",
    "print(x[1::2]) # Elementos de 2 en 2 desde el de índice 1"
   ]
  },
  {
   "cell_type": "code",
   "execution_count": 4,
   "id": "d04aa729-7f16-4f13-bc40-8b95c5f6279f",
   "metadata": {},
   "outputs": [
    {
     "name": "stdout",
     "output_type": "stream",
     "text": [
      "[[1 2 3]\n",
      " [4 5 6]\n",
      " [7 8 9]]\n",
      "[[7 8]]\n",
      "[[1 2 3]\n",
      " [7 8 9]]\n"
     ]
    }
   ],
   "source": [
    "x = np.array([ [1,2,3], [4,5,6], [7,8,9] ])\n",
    "print(x)\n",
    "print(x[2:,:2])\n",
    "print(x[::2,:])"
   ]
  },
  {
   "cell_type": "code",
   "execution_count": 5,
   "id": "a6446758-002c-4f13-abd6-4fabdf807ce3",
   "metadata": {},
   "outputs": [
    {
     "name": "stdout",
     "output_type": "stream",
     "text": [
      "[[1 2 3]\n",
      " [4 5 6]\n",
      " [7 8 9]]\n",
      "[[5 6]\n",
      " [8 9]]\n",
      "[[ 5  6]\n",
      " [ 8 99]]\n",
      "[[ 1  2  3]\n",
      " [ 4  5  6]\n",
      " [ 7  8 99]]\n",
      "[[88  2]\n",
      " [ 4  5]]\n",
      "[[ 1  2  3]\n",
      " [ 4  5  6]\n",
      " [ 7  8 99]]\n"
     ]
    }
   ],
   "source": [
    "x = np.array([ [1,2,3], [4,5,6], [7,8,9] ])\n",
    "y = x[1:3,1:3]\n",
    "print(x)\n",
    "print(y)\n",
    "y[1,1] = 99\n",
    "print(y)\n",
    "print(x) \n",
    "z = x[:2,:2].copy()\n",
    "z[0,0] = 88\n",
    "print(z)\n",
    "print(x) "
   ]
  },
  {
   "cell_type": "code",
   "execution_count": 6,
   "id": "ee6c09ab-5d02-40e6-afb6-c4fd7eef3da6",
   "metadata": {},
   "outputs": [
    {
     "name": "stdout",
     "output_type": "stream",
     "text": [
      "[4 5 6 7 8 9]\n",
      "[ 3  6  9 12 15 18]\n",
      "[0.5 1.  1.5 2.  2.5 3. ]\n",
      "[ 3  5  7  9 11 13]\n",
      "[0.5        0.66666667 0.75       0.8        0.83333333 0.85714286]\n",
      "[ 2.  4.  8. 16. 32. 64.]\n",
      "[  3   9  27  81 243 729]\n",
      "[0.         1.         1.5849625  2.         2.32192809 2.5849625 ]\n",
      "[0.         0.30103    0.47712125 0.60205999 0.69897    0.77815125]\n",
      "Suma:   21\n",
      "Min:    1\n",
      "Max:    6\n",
      "Media:  3.5\n",
      "Std:    1.707825127659933\n",
      "Var:    2.9166666666666665\n"
     ]
    }
   ],
   "source": [
    "x1 = np.array([1,2,3,4,5,6])\n",
    "x2 = np.array([2,3,4,5,6,7])\n",
    "print(x1+3)\n",
    "print(x1*3)\n",
    "print(x1/2)\n",
    "print(x1+x2)\n",
    "print(x1/x2)\n",
    "print(np.exp2(x1))\n",
    "print(np.power(3,x1))\n",
    "print(np.log2(x1))\n",
    "print(np.log10(x1))\n",
    "print(\"Suma:  \", np.sum(x1))\n",
    "print(\"Min:   \", np.min(x1))\n",
    "print(\"Max:   \", np.max(x1))\n",
    "print(\"Media: \", np.mean(x1))\n",
    "print(\"Std:   \", np.std(x1))\n",
    "print(\"Var:   \", np.var(x1))"
   ]
  },
  {
   "cell_type": "code",
   "execution_count": 7,
   "id": "ae6c7ac2-462f-4c02-84ae-9af7bd78a8c2",
   "metadata": {},
   "outputs": [
    {
     "name": "stdout",
     "output_type": "stream",
     "text": [
      "[[ 4  5  6]\n",
      " [ 7  8  9]\n",
      " [10 11 12]]\n",
      "[[ 3  6  9]\n",
      " [12 15 18]\n",
      " [21 24 27]]\n",
      "[[0.5 1.  1.5]\n",
      " [2.  2.5 3. ]\n",
      " [3.5 4.  4.5]]\n",
      "[[  2.   4.   8.]\n",
      " [ 16.  32.  64.]\n",
      " [128. 256. 512.]]\n",
      "[[    3     9    27]\n",
      " [   81   243   729]\n",
      " [ 2187  6561 19683]]\n",
      "[[0.         1.         1.5849625 ]\n",
      " [2.         2.32192809 2.5849625 ]\n",
      " [2.80735492 3.         3.169925  ]]\n",
      "[[0.         0.30103    0.47712125]\n",
      " [0.60205999 0.69897    0.77815125]\n",
      " [0.84509804 0.90308999 0.95424251]]\n",
      "Suma:   45\n",
      "Min:    1\n",
      "Max:    9\n",
      "Media:  5.0\n",
      "Std:    2.581988897471611\n",
      "Var:    6.666666666666667\n"
     ]
    }
   ],
   "source": [
    "x1 = np.array([[1,2,3],[4,5,6],[7,8,9]])\n",
    "print(x1+3)\n",
    "print(x1*3)\n",
    "print(x1/2)\n",
    "print(np.exp2(x1))\n",
    "print(np.power(3,x1))\n",
    "print(np.log2(x1))\n",
    "print(np.log10(x1))\n",
    "print(\"Suma:  \", np.sum(x1))\n",
    "print(\"Min:   \", np.min(x1))\n",
    "print(\"Max:   \", np.max(x1))\n",
    "print(\"Media: \", np.mean(x1))\n",
    "print(\"Std:   \", np.std(x1))\n",
    "print(\"Var:   \", np.var(x1))"
   ]
  },
  {
   "cell_type": "code",
   "execution_count": null,
   "id": "0c7e63a8-3c2b-481b-b260-3674a152981d",
   "metadata": {},
   "outputs": [],
   "source": []
  }
 ],
 "metadata": {
  "kernelspec": {
   "display_name": "Python 3 (ipykernel)",
   "language": "python",
   "name": "python3"
  },
  "language_info": {
   "codemirror_mode": {
    "name": "ipython",
    "version": 3
   },
   "file_extension": ".py",
   "mimetype": "text/x-python",
   "name": "python",
   "nbconvert_exporter": "python",
   "pygments_lexer": "ipython3",
   "version": "3.12.9"
  }
 },
 "nbformat": 4,
 "nbformat_minor": 5
}
