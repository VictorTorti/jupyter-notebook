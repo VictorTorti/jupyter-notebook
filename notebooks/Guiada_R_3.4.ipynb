{
 "cells": [
  {
   "cell_type": "code",
   "execution_count": 1,
   "id": "986605fb-307e-46fe-a73b-a24f4ba1d5ec",
   "metadata": {},
   "outputs": [
    {
     "name": "stderr",
     "output_type": "stream",
     "text": [
      "Warning message in install.packages(\"survival\"):\n",
      "“installation of package ‘survival’ had non-zero exit status”\n",
      "Updating HTML index of packages in '.Library'\n",
      "\n",
      "Making 'packages.html' ...\n",
      " done\n",
      "\n"
     ]
    }
   ],
   "source": [
    "install.packages(\"survival\")  # Instala el paquete si no está instalado\n",
    "library(survival) "
   ]
  },
  {
   "cell_type": "code",
   "execution_count": 2,
   "id": "45b2ae46-f832-4f4a-9e4c-7c6d117c8ada",
   "metadata": {},
   "outputs": [
    {
     "name": "stderr",
     "output_type": "stream",
     "text": [
      "Warning message in data(\"kidney\", package = \"survival\"):\n",
      "“data set ‘kidney’ not found”\n"
     ]
    },
    {
     "data": {
      "text/html": [
       "<table class=\"dataframe\">\n",
       "<caption>A data.frame: 6 × 7</caption>\n",
       "<thead>\n",
       "\t<tr><th></th><th scope=col>id</th><th scope=col>time</th><th scope=col>status</th><th scope=col>age</th><th scope=col>sex</th><th scope=col>disease</th><th scope=col>frail</th></tr>\n",
       "\t<tr><th></th><th scope=col>&lt;dbl&gt;</th><th scope=col>&lt;dbl&gt;</th><th scope=col>&lt;dbl&gt;</th><th scope=col>&lt;dbl&gt;</th><th scope=col>&lt;dbl&gt;</th><th scope=col>&lt;fct&gt;</th><th scope=col>&lt;dbl&gt;</th></tr>\n",
       "</thead>\n",
       "<tbody>\n",
       "\t<tr><th scope=row>1</th><td>1</td><td> 8</td><td>1</td><td>28</td><td>1</td><td>Other</td><td>2.3</td></tr>\n",
       "\t<tr><th scope=row>2</th><td>1</td><td>16</td><td>1</td><td>28</td><td>1</td><td>Other</td><td>2.3</td></tr>\n",
       "\t<tr><th scope=row>3</th><td>2</td><td>23</td><td>1</td><td>48</td><td>2</td><td>GN   </td><td>1.9</td></tr>\n",
       "\t<tr><th scope=row>4</th><td>2</td><td>13</td><td>0</td><td>48</td><td>2</td><td>GN   </td><td>1.9</td></tr>\n",
       "\t<tr><th scope=row>5</th><td>3</td><td>22</td><td>1</td><td>32</td><td>1</td><td>Other</td><td>1.2</td></tr>\n",
       "\t<tr><th scope=row>6</th><td>3</td><td>28</td><td>1</td><td>32</td><td>1</td><td>Other</td><td>1.2</td></tr>\n",
       "</tbody>\n",
       "</table>\n"
      ],
      "text/latex": [
       "A data.frame: 6 × 7\n",
       "\\begin{tabular}{r|lllllll}\n",
       "  & id & time & status & age & sex & disease & frail\\\\\n",
       "  & <dbl> & <dbl> & <dbl> & <dbl> & <dbl> & <fct> & <dbl>\\\\\n",
       "\\hline\n",
       "\t1 & 1 &  8 & 1 & 28 & 1 & Other & 2.3\\\\\n",
       "\t2 & 1 & 16 & 1 & 28 & 1 & Other & 2.3\\\\\n",
       "\t3 & 2 & 23 & 1 & 48 & 2 & GN    & 1.9\\\\\n",
       "\t4 & 2 & 13 & 0 & 48 & 2 & GN    & 1.9\\\\\n",
       "\t5 & 3 & 22 & 1 & 32 & 1 & Other & 1.2\\\\\n",
       "\t6 & 3 & 28 & 1 & 32 & 1 & Other & 1.2\\\\\n",
       "\\end{tabular}\n"
      ],
      "text/markdown": [
       "\n",
       "A data.frame: 6 × 7\n",
       "\n",
       "| <!--/--> | id &lt;dbl&gt; | time &lt;dbl&gt; | status &lt;dbl&gt; | age &lt;dbl&gt; | sex &lt;dbl&gt; | disease &lt;fct&gt; | frail &lt;dbl&gt; |\n",
       "|---|---|---|---|---|---|---|---|\n",
       "| 1 | 1 |  8 | 1 | 28 | 1 | Other | 2.3 |\n",
       "| 2 | 1 | 16 | 1 | 28 | 1 | Other | 2.3 |\n",
       "| 3 | 2 | 23 | 1 | 48 | 2 | GN    | 1.9 |\n",
       "| 4 | 2 | 13 | 0 | 48 | 2 | GN    | 1.9 |\n",
       "| 5 | 3 | 22 | 1 | 32 | 1 | Other | 1.2 |\n",
       "| 6 | 3 | 28 | 1 | 32 | 1 | Other | 1.2 |\n",
       "\n"
      ],
      "text/plain": [
       "  id time status age sex disease frail\n",
       "1 1   8   1      28  1   Other   2.3  \n",
       "2 1  16   1      28  1   Other   2.3  \n",
       "3 2  23   1      48  2   GN      1.9  \n",
       "4 2  13   0      48  2   GN      1.9  \n",
       "5 3  22   1      32  1   Other   1.2  \n",
       "6 3  28   1      32  1   Other   1.2  "
      ]
     },
     "metadata": {},
     "output_type": "display_data"
    }
   ],
   "source": [
    "data(\"kidney\", package = \"survival\")\n",
    "head(kidney)"
   ]
  },
  {
   "cell_type": "code",
   "execution_count": 3,
   "id": "12c2b493-a17c-41cf-9562-6971aa818cc9",
   "metadata": {},
   "outputs": [
    {
     "data": {
      "text/html": [
       "<h3>Data sets</h3>\n",
       "<table class=\"dataframe\">\n",
       "<caption>A data.frame: 56 × 3</caption>\n",
       "<thead>\n",
       "\t<tr><th scope=col>Package</th><th scope=col>Item</th><th scope=col>Title</th></tr>\n",
       "\t<tr><th scope=col>&lt;chr&gt;</th><th scope=col>&lt;chr&gt;</th><th scope=col>&lt;chr&gt;</th></tr>\n",
       "</thead>\n",
       "<tbody>\n",
       "\t<tr><td>survival</td><td>aml (cancer)           </td><td>Acute Myelogenous Leukemia survival data                             </td></tr>\n",
       "\t<tr><td>survival</td><td>bladder (cancer)       </td><td>Bladder Cancer Recurrences                                           </td></tr>\n",
       "\t<tr><td>survival</td><td>bladder1 (cancer)      </td><td>Bladder Cancer Recurrences                                           </td></tr>\n",
       "\t<tr><td>survival</td><td>bladder2 (cancer)      </td><td>Bladder Cancer Recurrences                                           </td></tr>\n",
       "\t<tr><td>survival</td><td>braking (reliability)  </td><td>Reliability data sets                                                </td></tr>\n",
       "\t<tr><td>survival</td><td>cancer                 </td><td>NCCTG Lung Cancer Data                                               </td></tr>\n",
       "\t<tr><td>survival</td><td>capacitor (reliability)</td><td>Reliability data sets                                                </td></tr>\n",
       "\t<tr><td>survival</td><td>cgd                    </td><td>Chronic Granulotamous Disease data                                   </td></tr>\n",
       "\t<tr><td>survival</td><td>cgd0 (cgd)             </td><td>Chronic Granulotomous Disease data                                   </td></tr>\n",
       "\t<tr><td>survival</td><td>colon (cancer)         </td><td>Chemotherapy for Stage B/C colon cancer                              </td></tr>\n",
       "\t<tr><td>survival</td><td>cracks (reliability)   </td><td>Reliability data sets                                                </td></tr>\n",
       "\t<tr><td>survival</td><td>diabetic               </td><td>Ddiabetic retinopathy                                                </td></tr>\n",
       "\t<tr><td>survival</td><td>flchain                </td><td>Assay of serum free light chain for 7874 subjects.                   </td></tr>\n",
       "\t<tr><td>survival</td><td>gbsg (cancer)          </td><td>Breast cancer data sets used in Royston and Altman (2013)            </td></tr>\n",
       "\t<tr><td>survival</td><td>genfan (reliability)   </td><td>Reliability data sets                                                </td></tr>\n",
       "\t<tr><td>survival</td><td>heart                  </td><td>Stanford Heart Transplant data                                       </td></tr>\n",
       "\t<tr><td>survival</td><td>hoel (cancer)          </td><td>Mouse cancer data                                                    </td></tr>\n",
       "\t<tr><td>survival</td><td>ifluid (reliability)   </td><td>Reliability data sets                                                </td></tr>\n",
       "\t<tr><td>survival</td><td>imotor (reliability)   </td><td>Reliability data sets                                                </td></tr>\n",
       "\t<tr><td>survival</td><td>jasa (heart)           </td><td>Stanford Heart Transplant data                                       </td></tr>\n",
       "\t<tr><td>survival</td><td>jasa1 (heart)          </td><td>Stanford Heart Transplant data                                       </td></tr>\n",
       "\t<tr><td>survival</td><td>kidney (cancer)        </td><td>Kidney catheter data                                                 </td></tr>\n",
       "\t<tr><td>survival</td><td>leukemia (cancer)      </td><td>Acute Myelogenous Leukemia survival data                             </td></tr>\n",
       "\t<tr><td>survival</td><td>logan                  </td><td>Data from the 1972-78 GSS data used by Logan                         </td></tr>\n",
       "\t<tr><td>survival</td><td>lung (cancer)          </td><td>NCCTG Lung Cancer Data                                               </td></tr>\n",
       "\t<tr><td>survival</td><td>mgus (cancer)          </td><td>Monoclonal gammopathy data                                           </td></tr>\n",
       "\t<tr><td>survival</td><td>mgus1 (cancer)         </td><td>Monoclonal gammopathy data                                           </td></tr>\n",
       "\t<tr><td>survival</td><td>mgus2 (cancer)         </td><td>Monoclonal gammopathy data                                           </td></tr>\n",
       "\t<tr><td>survival</td><td>myeloid (cancer)       </td><td>Acute myeloid leukemia                                               </td></tr>\n",
       "\t<tr><td>survival</td><td>myeloma (cancer)       </td><td>Survival times of patients with multiple myeloma                     </td></tr>\n",
       "\t<tr><td>survival</td><td>nafld1 (nafld)         </td><td>Non-alcoholic fatty liver disease                                    </td></tr>\n",
       "\t<tr><td>survival</td><td>nafld2 (nafld)         </td><td>Non-alcoholic fatty liver disease                                    </td></tr>\n",
       "\t<tr><td>survival</td><td>nafld3 (nafld)         </td><td>Non-alcoholic fatty liver disease                                    </td></tr>\n",
       "\t<tr><td>survival</td><td>nwtco                  </td><td>Data from the National Wilm's Tumor Study                            </td></tr>\n",
       "\t<tr><td>survival</td><td>ovarian (cancer)       </td><td>Ovarian Cancer Survival Data                                         </td></tr>\n",
       "\t<tr><td>survival</td><td>pbc                    </td><td>Mayo Clinic Primary Biliary Cholangitis Data                         </td></tr>\n",
       "\t<tr><td>survival</td><td>pbcseq (pbc)           </td><td>Mayo Clinic Primary Biliary Cirrhosis, sequential data               </td></tr>\n",
       "\t<tr><td>survival</td><td>rats (cancer)          </td><td>Rat treatment data from Mantel et al                                 </td></tr>\n",
       "\t<tr><td>survival</td><td>rats2 (cancer)         </td><td>Rat data from Gail et al.                                            </td></tr>\n",
       "\t<tr><td>survival</td><td>retinopathy            </td><td>Diabetic Retinopathy                                                 </td></tr>\n",
       "\t<tr><td>survival</td><td>rhDNase                </td><td>rhDNASE data set                                                     </td></tr>\n",
       "\t<tr><td>survival</td><td>rotterdam (cancer)     </td><td>Breast cancer data set used in Royston and Altman (2013)             </td></tr>\n",
       "\t<tr><td>survival</td><td>solder                 </td><td>Data from a soldering experiment                                     </td></tr>\n",
       "\t<tr><td>survival</td><td>stanford2 (heart)      </td><td>More Stanford Heart Transplant data                                  </td></tr>\n",
       "\t<tr><td>survival</td><td>survexp.mn (survexp)   </td><td>Census Data Sets for the Expected Survival and Person Years Functions</td></tr>\n",
       "\t<tr><td>survival</td><td>survexp.us (survexp)   </td><td>Census Data Sets for the Expected Survival and Person Years Functions</td></tr>\n",
       "\t<tr><td>survival</td><td>survexp.usr (survexp)  </td><td>Census Data Sets for the Expected Survival and Person Years Functions</td></tr>\n",
       "\t<tr><td>survival</td><td>tobin                  </td><td>Tobin's Tobit data                                                   </td></tr>\n",
       "\t<tr><td>survival</td><td>transplant             </td><td>Liver transplant waiting list                                        </td></tr>\n",
       "\t<tr><td>survival</td><td>turbine (reliability)  </td><td>Reliability data sets                                                </td></tr>\n",
       "\t<tr><td>survival</td><td>udca                   </td><td>Data from a trial of usrodeoxycholic acid                            </td></tr>\n",
       "\t<tr><td>survival</td><td>udca1 (udca)           </td><td>Data from a trial of usrodeoxycholic acid                            </td></tr>\n",
       "\t<tr><td>survival</td><td>udca2 (udca)           </td><td>Data from a trial of usrodeoxycholic acid                            </td></tr>\n",
       "\t<tr><td>survival</td><td>uspop2 (survexp)       </td><td>Projected US Population                                              </td></tr>\n",
       "\t<tr><td>survival</td><td>valveSeat (reliability)</td><td>Reliability data sets                                                </td></tr>\n",
       "\t<tr><td>survival</td><td>veteran (cancer)       </td><td>Veterans' Administration Lung Cancer study                           </td></tr>\n",
       "</tbody>\n",
       "</table>\n",
       "\n"
      ],
      "text/plain": [
       "Data sets in package ‘survival’:\n",
       "\n",
       "aml (cancer)            Acute Myelogenous Leukemia survival data\n",
       "bladder (cancer)        Bladder Cancer Recurrences\n",
       "bladder1 (cancer)       Bladder Cancer Recurrences\n",
       "bladder2 (cancer)       Bladder Cancer Recurrences\n",
       "braking (reliability)   Reliability data sets\n",
       "cancer                  NCCTG Lung Cancer Data\n",
       "capacitor (reliability)\n",
       "                        Reliability data sets\n",
       "cgd                     Chronic Granulotamous Disease data\n",
       "cgd0 (cgd)              Chronic Granulotomous Disease data\n",
       "colon (cancer)          Chemotherapy for Stage B/C colon cancer\n",
       "cracks (reliability)    Reliability data sets\n",
       "diabetic                Ddiabetic retinopathy\n",
       "flchain                 Assay of serum free light chain for 7874\n",
       "                        subjects.\n",
       "gbsg (cancer)           Breast cancer data sets used in Royston and\n",
       "                        Altman (2013)\n",
       "genfan (reliability)    Reliability data sets\n",
       "heart                   Stanford Heart Transplant data\n",
       "hoel (cancer)           Mouse cancer data\n",
       "ifluid (reliability)    Reliability data sets\n",
       "imotor (reliability)    Reliability data sets\n",
       "jasa (heart)            Stanford Heart Transplant data\n",
       "jasa1 (heart)           Stanford Heart Transplant data\n",
       "kidney (cancer)         Kidney catheter data\n",
       "leukemia (cancer)       Acute Myelogenous Leukemia survival data\n",
       "logan                   Data from the 1972-78 GSS data used by Logan\n",
       "lung (cancer)           NCCTG Lung Cancer Data\n",
       "mgus (cancer)           Monoclonal gammopathy data\n",
       "mgus1 (cancer)          Monoclonal gammopathy data\n",
       "mgus2 (cancer)          Monoclonal gammopathy data\n",
       "myeloid (cancer)        Acute myeloid leukemia\n",
       "myeloma (cancer)        Survival times of patients with multiple\n",
       "                        myeloma\n",
       "nafld1 (nafld)          Non-alcoholic fatty liver disease\n",
       "nafld2 (nafld)          Non-alcoholic fatty liver disease\n",
       "nafld3 (nafld)          Non-alcoholic fatty liver disease\n",
       "nwtco                   Data from the National Wilm's Tumor Study\n",
       "ovarian (cancer)        Ovarian Cancer Survival Data\n",
       "pbc                     Mayo Clinic Primary Biliary Cholangitis Data\n",
       "pbcseq (pbc)            Mayo Clinic Primary Biliary Cirrhosis,\n",
       "                        sequential data\n",
       "rats (cancer)           Rat treatment data from Mantel et al\n",
       "rats2 (cancer)          Rat data from Gail et al.\n",
       "retinopathy             Diabetic Retinopathy\n",
       "rhDNase                 rhDNASE data set\n",
       "rotterdam (cancer)      Breast cancer data set used in Royston and\n",
       "                        Altman (2013)\n",
       "solder                  Data from a soldering experiment\n",
       "stanford2 (heart)       More Stanford Heart Transplant data\n",
       "survexp.mn (survexp)    Census Data Sets for the Expected Survival and\n",
       "                        Person Years Functions\n",
       "survexp.us (survexp)    Census Data Sets for the Expected Survival and\n",
       "                        Person Years Functions\n",
       "survexp.usr (survexp)   Census Data Sets for the Expected Survival and\n",
       "                        Person Years Functions\n",
       "tobin                   Tobin's Tobit data\n",
       "transplant              Liver transplant waiting list\n",
       "turbine (reliability)   Reliability data sets\n",
       "udca                    Data from a trial of usrodeoxycholic acid\n",
       "udca1 (udca)            Data from a trial of usrodeoxycholic acid\n",
       "udca2 (udca)            Data from a trial of usrodeoxycholic acid\n",
       "uspop2 (survexp)        Projected US Population\n",
       "valveSeat (reliability)\n",
       "                        Reliability data sets\n",
       "veteran (cancer)        Veterans' Administration Lung Cancer study"
      ]
     },
     "metadata": {},
     "output_type": "display_data"
    }
   ],
   "source": [
    "data(package = \"survival\")"
   ]
  },
  {
   "cell_type": "code",
   "execution_count": null,
   "id": "64cf2bbb-6993-47c1-8ac0-be741acb5ae4",
   "metadata": {},
   "outputs": [],
   "source": []
  }
 ],
 "metadata": {
  "kernelspec": {
   "display_name": "R",
   "language": "R",
   "name": "ir"
  },
  "language_info": {
   "codemirror_mode": "r",
   "file_extension": ".r",
   "mimetype": "text/x-r-source",
   "name": "R",
   "pygments_lexer": "r",
   "version": "4.3.3"
  }
 },
 "nbformat": 4,
 "nbformat_minor": 5
}
