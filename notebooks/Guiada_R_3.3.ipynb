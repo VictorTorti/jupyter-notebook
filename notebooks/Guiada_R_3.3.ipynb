{
 "cells": [
  {
   "cell_type": "code",
   "execution_count": 3,
   "id": "6c61cfc6-a080-4a2f-a9ea-629999342219",
   "metadata": {},
   "outputs": [
    {
     "data": {
      "text/html": [
       "<ol>\n",
       "\t<li><style>\n",
       ".list-inline {list-style: none; margin:0; padding: 0}\n",
       ".list-inline>li {display: inline-block}\n",
       ".list-inline>li:not(:last-child)::after {content: \"\\00b7\"; padding: 0 .5ex}\n",
       "</style>\n",
       "<ol class=list-inline><li>1</li><li>2</li><li>3</li></ol>\n",
       "</li>\n",
       "\t<li>33</li>\n",
       "\t<li><table class=\"dataframe\">\n",
       "<caption>A matrix: 2 × 2 of type dbl</caption>\n",
       "<tbody>\n",
       "\t<tr><td>6</td><td>14</td></tr>\n",
       "\t<tr><td>7</td><td> 1</td></tr>\n",
       "</tbody>\n",
       "</table>\n",
       "</li>\n",
       "\t<li><pre class=language-r><code>function (x, ...) \n",
       "UseMethod(\"mean\")</code></pre></li>\n",
       "</ol>\n"
      ],
      "text/latex": [
       "\\begin{enumerate}\n",
       "\\item \\begin{enumerate*}\n",
       "\\item 1\n",
       "\\item 2\n",
       "\\item 3\n",
       "\\end{enumerate*}\n",
       "\n",
       "\\item 33\n",
       "\\item A matrix: 2 × 2 of type dbl\n",
       "\\begin{tabular}{ll}\n",
       "\t 6 & 14\\\\\n",
       "\t 7 &  1\\\\\n",
       "\\end{tabular}\n",
       "\n",
       "\\item \\begin{minted}{r}\n",
       "function (x, ...) \n",
       "UseMethod(\"mean\")\n",
       "\\end{minted}\n",
       "\\end{enumerate}\n"
      ],
      "text/markdown": [
       "1. 1. 1\n",
       "2. 2\n",
       "3. 3\n",
       "\n",
       "\n",
       "\n",
       "2. 33\n",
       "3. \n",
       "A matrix: 2 × 2 of type dbl\n",
       "\n",
       "| 6 | 14 |\n",
       "| 7 |  1 |\n",
       "\n",
       "\n",
       "4. ```r\n",
       "function (x, ...) \n",
       "UseMethod(\"mean\")\n",
       "```\n",
       "\n",
       "\n"
      ],
      "text/plain": [
       "[[1]]\n",
       "[1] 1 2 3\n",
       "\n",
       "[[2]]\n",
       "[1] 33\n",
       "\n",
       "[[3]]\n",
       "     [,1] [,2]\n",
       "[1,]    6   14\n",
       "[2,]    7    1\n",
       "\n",
       "[[4]]\n",
       "function (x, ...) \n",
       "UseMethod(\"mean\")\n",
       "<bytecode: 0x5d7ce93d0d30>\n",
       "<environment: namespace:base>\n"
      ]
     },
     "metadata": {},
     "output_type": "display_data"
    }
   ],
   "source": [
    "(lista <- list(\n",
    "  c(1, 2, 3),\n",
    "  33,\n",
    "  matrix(c(6, 7, 14, 1), nrow = 2),\n",
    "  mean\n",
    "))\n"
   ]
  },
  {
   "cell_type": "code",
   "execution_count": 11,
   "id": "516a967d-4ffc-44d8-9c14-0cbe5eb76523",
   "metadata": {},
   "outputs": [
    {
     "data": {
      "text/html": [
       "<table class=\"dataframe\">\n",
       "<caption>A data.frame: 5 × 3</caption>\n",
       "<thead>\n",
       "\t<tr><th scope=col>x</th><th scope=col>y</th><th scope=col>z</th></tr>\n",
       "\t<tr><th scope=col>&lt;chr&gt;</th><th scope=col>&lt;int&gt;</th><th scope=col>&lt;lgl&gt;</th></tr>\n",
       "</thead>\n",
       "<tbody>\n",
       "\t<tr><td>a</td><td>1</td><td>FALSE</td></tr>\n",
       "\t<tr><td>b</td><td>2</td><td>FALSE</td></tr>\n",
       "\t<tr><td>c</td><td>3</td><td> TRUE</td></tr>\n",
       "\t<tr><td>d</td><td>4</td><td> TRUE</td></tr>\n",
       "\t<tr><td>e</td><td>5</td><td> TRUE</td></tr>\n",
       "</tbody>\n",
       "</table>\n"
      ],
      "text/latex": [
       "A data.frame: 5 × 3\n",
       "\\begin{tabular}{lll}\n",
       " x & y & z\\\\\n",
       " <chr> & <int> & <lgl>\\\\\n",
       "\\hline\n",
       "\t a & 1 & FALSE\\\\\n",
       "\t b & 2 & FALSE\\\\\n",
       "\t c & 3 &  TRUE\\\\\n",
       "\t d & 4 &  TRUE\\\\\n",
       "\t e & 5 &  TRUE\\\\\n",
       "\\end{tabular}\n"
      ],
      "text/markdown": [
       "\n",
       "A data.frame: 5 × 3\n",
       "\n",
       "| x &lt;chr&gt; | y &lt;int&gt; | z &lt;lgl&gt; |\n",
       "|---|---|---|\n",
       "| a | 1 | FALSE |\n",
       "| b | 2 | FALSE |\n",
       "| c | 3 |  TRUE |\n",
       "| d | 4 |  TRUE |\n",
       "| e | 5 |  TRUE |\n",
       "\n"
      ],
      "text/plain": [
       "  x y z    \n",
       "1 a 1 FALSE\n",
       "2 b 2 FALSE\n",
       "3 c 3  TRUE\n",
       "4 d 4  TRUE\n",
       "5 e 5  TRUE"
      ]
     },
     "metadata": {},
     "output_type": "display_data"
    }
   ],
   "source": [
    "v <- 1:5\n",
    "(mi_dataframe <- data.frame(\n",
    "x = letters[1:5],\n",
    "y = v,\n",
    "z = v > 2\n",
    "))"
   ]
  },
  {
   "cell_type": "code",
   "execution_count": null,
   "id": "299c8a06-09da-4380-aaa7-eda21464f0c1",
   "metadata": {},
   "outputs": [],
   "source": []
  }
 ],
 "metadata": {
  "kernelspec": {
   "display_name": "R",
   "language": "R",
   "name": "ir"
  },
  "language_info": {
   "codemirror_mode": "r",
   "file_extension": ".r",
   "mimetype": "text/x-r-source",
   "name": "R",
   "pygments_lexer": "r",
   "version": "4.3.3"
  }
 },
 "nbformat": 4,
 "nbformat_minor": 5
}
