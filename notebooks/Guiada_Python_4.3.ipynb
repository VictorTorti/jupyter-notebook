{
 "cells": [
  {
   "cell_type": "code",
   "execution_count": 1,
   "id": "4a41f0af-18f4-4c15-bb98-7b22936e66a2",
   "metadata": {},
   "outputs": [],
   "source": [
    "import pandas as pd"
   ]
  },
  {
   "cell_type": "code",
   "execution_count": 2,
   "id": "f1b49254-daa9-454d-8a12-485531c96574",
   "metadata": {},
   "outputs": [
    {
     "name": "stdout",
     "output_type": "stream",
     "text": [
      "       Fruta  Numero\n",
      "0    Manzana       7\n",
      "1       Pera       9\n",
      "2  Mandarina      11\n"
     ]
    }
   ],
   "source": [
    "lista = [['Manzana',7],['Pera',9],['Mandarina',11]]\n",
    "df = pd.DataFrame(lista,columns=['Fruta','Numero'])\n",
    "print(df)"
   ]
  },
  {
   "cell_type": "code",
   "execution_count": 3,
   "id": "da7c4075-ffbc-4311-8aa4-52ed8fdb7dcd",
   "metadata": {},
   "outputs": [
    {
     "name": "stdout",
     "output_type": "stream",
     "text": [
      "0      Manzana\n",
      "1         Pera\n",
      "2    Mandarina\n",
      "Name: Fruta, dtype: object\n"
     ]
    }
   ],
   "source": [
    "lista = [['Manzana',7],['Pera',9],['Mandarina',11]]\n",
    "df = pd.DataFrame(lista,columns=['Fruta','Numero'])\n",
    "print(df['Fruta'])"
   ]
  },
  {
   "cell_type": "code",
   "execution_count": 4,
   "id": "fc9a23ed-e473-4bce-80b7-e98cd6355f72",
   "metadata": {},
   "outputs": [
    {
     "name": "stdout",
     "output_type": "stream",
     "text": [
      "       Fruta  Numero\n",
      "0    Manzana       7\n",
      "1       Pera       9\n",
      "2  Mandarina      11\n",
      "       Fruta  Numero  OtroNum\n",
      "0    Manzana       7        3\n",
      "1       Pera       9        5\n",
      "2  Mandarina      11        7\n",
      "       Fruta  OtroNum\n",
      "0    Manzana        3\n",
      "1       Pera        5\n",
      "2  Mandarina        7\n"
     ]
    }
   ],
   "source": [
    "lista = [['Manzana',7],['Pera',9],['Mandarina',11]]\n",
    "df = pd.DataFrame(lista,columns=['Fruta','Numero'])\n",
    "col = [3,5,7]\n",
    "print(df)\n",
    "df['OtroNum'] = col\n",
    "print(df)\n",
    "del df['Numero']\n",
    "print(df)"
   ]
  },
  {
   "cell_type": "code",
   "execution_count": 8,
   "id": "f0426d87-71c8-4447-8863-fe2b37f58f81",
   "metadata": {},
   "outputs": [
    {
     "name": "stdout",
     "output_type": "stream",
     "text": [
      "       Fruta  Numero\n",
      "0    Manzana       7\n",
      "1       Pera       9\n",
      "2  Mandarina      11\n",
      "3      Mango       2\n",
      "       Fruta  Numero\n",
      "1       Pera       9\n",
      "2  Mandarina      11\n"
     ]
    }
   ],
   "source": [
    "lista = [['Manzana',7],['Pera',9],['Mandarina',11],['Mango',2]]\n",
    "df = pd.DataFrame(lista,columns=['Fruta','Numero'])\n",
    "print(df)\n",
    "print(df[1:3])"
   ]
  },
  {
   "cell_type": "code",
   "execution_count": 11,
   "id": "86a42a90-3f76-44d4-8fe7-e5e326b6d300",
   "metadata": {},
   "outputs": [
    {
     "name": "stdout",
     "output_type": "stream",
     "text": [
      "       Fruta  Numero\n",
      "0    Manzana       7\n",
      "1       Pera       9\n",
      "0  Mandarina      11\n",
      "1      Mango       2\n",
      "       Fruta  Numero\n",
      "0    Manzana       7\n",
      "0  Mandarina      11\n"
     ]
    }
   ],
   "source": [
    "lista = [['Manzana',7],['Pera',9]]\n",
    "lista2 = [['Mandarina',11],['Mango',2]]\n",
    "df = pd.DataFrame(lista,columns=['Fruta','Numero'])\n",
    "df2 = pd.DataFrame(lista2,columns=['Fruta','Numero'])\n",
    "df = pd.concat([df, df2])\n",
    "print(df)\n",
    "df = df.drop(1)\n",
    "print(df)"
   ]
  },
  {
   "cell_type": "code",
   "execution_count": 13,
   "id": "31f41089-f6ab-4567-9b73-e1435033ae7b",
   "metadata": {},
   "outputs": [
    {
     "name": "stdout",
     "output_type": "stream",
     "text": [
      "            Fruta  Numero\n",
      "uno       Manzana       7\n",
      "dos          Pera       9\n",
      "tres    Mandarina      11\n",
      "cuatro      Mango       2\n",
      "            Fruta  Numero\n",
      "uno       Manzana       7\n",
      "tres    Mandarina      11\n",
      "cuatro      Mango       2\n"
     ]
    }
   ],
   "source": [
    "lista = [['Manzana',7],['Pera',9]]\n",
    "lista2 = [['Mandarina',11],['Mango',2]]\n",
    "df = pd.DataFrame(lista,columns=['Fruta','Numero'],index=['uno','dos'])\n",
    "df2 = pd.DataFrame(lista2,columns=['Fruta','Numero'],index=['tres','cuatro'])\n",
    "df = pd.concat([df, df2])\n",
    "print(df)\n",
    "df = df.drop('dos')\n",
    "print(df)"
   ]
  },
  {
   "cell_type": "code",
   "execution_count": 14,
   "id": "640ecc3e-8c33-4018-939b-a39115041752",
   "metadata": {},
   "outputs": [
    {
     "name": "stdout",
     "output_type": "stream",
     "text": [
      "   0  1  2\n",
      "0  1  2  3\n",
      "1  4  5  6\n",
      "2  7  8  9\n",
      "         0    1    2\n",
      "count  3.0  3.0  3.0\n",
      "mean   4.0  5.0  6.0\n",
      "std    3.0  3.0  3.0\n",
      "min    1.0  2.0  3.0\n",
      "25%    2.5  3.5  4.5\n",
      "50%    4.0  5.0  6.0\n",
      "75%    5.5  6.5  7.5\n",
      "max    7.0  8.0  9.0\n"
     ]
    }
   ],
   "source": [
    "lista = [[1,2,3],[4,5,6],[7,8,9]]\n",
    "df = pd.DataFrame(lista)\n",
    "print(df)\n",
    "print(df.describe())"
   ]
  },
  {
   "cell_type": "code",
   "execution_count": null,
   "id": "7db5152e-73f5-4c1c-8df5-a5a182d3dff5",
   "metadata": {},
   "outputs": [],
   "source": []
  }
 ],
 "metadata": {
  "kernelspec": {
   "display_name": "Python 3 (ipykernel)",
   "language": "python",
   "name": "python3"
  },
  "language_info": {
   "codemirror_mode": {
    "name": "ipython",
    "version": 3
   },
   "file_extension": ".py",
   "mimetype": "text/x-python",
   "name": "python",
   "nbconvert_exporter": "python",
   "pygments_lexer": "ipython3",
   "version": "3.12.9"
  }
 },
 "nbformat": 4,
 "nbformat_minor": 5
}
