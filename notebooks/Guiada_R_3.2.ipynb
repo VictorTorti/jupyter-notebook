{
 "cells": [
  {
   "cell_type": "code",
   "execution_count": 1,
   "id": "111585b2-3b9f-4217-9f88-62d9077bddad",
   "metadata": {},
   "outputs": [
    {
     "data": {
      "text/html": [
       "<style>\n",
       ".list-inline {list-style: none; margin:0; padding: 0}\n",
       ".list-inline>li {display: inline-block}\n",
       ".list-inline>li:not(:last-child)::after {content: \"\\00b7\"; padding: 0 .5ex}\n",
       "</style>\n",
       "<ol class=list-inline><li>1</li><li>2</li><li>3</li><li>4</li><li>5</li><li>6</li><li>7</li><li>8</li><li>9</li><li>10</li><li>11</li><li>12</li><li>13</li><li>14</li><li>15</li><li>16</li><li>17</li><li>18</li><li>19</li><li>20</li><li>21</li><li>22</li><li>23</li><li>24</li></ol>\n"
      ],
      "text/latex": [
       "\\begin{enumerate*}\n",
       "\\item 1\n",
       "\\item 2\n",
       "\\item 3\n",
       "\\item 4\n",
       "\\item 5\n",
       "\\item 6\n",
       "\\item 7\n",
       "\\item 8\n",
       "\\item 9\n",
       "\\item 10\n",
       "\\item 11\n",
       "\\item 12\n",
       "\\item 13\n",
       "\\item 14\n",
       "\\item 15\n",
       "\\item 16\n",
       "\\item 17\n",
       "\\item 18\n",
       "\\item 19\n",
       "\\item 20\n",
       "\\item 21\n",
       "\\item 22\n",
       "\\item 23\n",
       "\\item 24\n",
       "\\end{enumerate*}\n"
      ],
      "text/markdown": [
       "1. 1\n",
       "2. 2\n",
       "3. 3\n",
       "4. 4\n",
       "5. 5\n",
       "6. 6\n",
       "7. 7\n",
       "8. 8\n",
       "9. 9\n",
       "10. 10\n",
       "11. 11\n",
       "12. 12\n",
       "13. 13\n",
       "14. 14\n",
       "15. 15\n",
       "16. 16\n",
       "17. 17\n",
       "18. 18\n",
       "19. 19\n",
       "20. 20\n",
       "21. 21\n",
       "22. 22\n",
       "23. 23\n",
       "24. 24\n",
       "\n",
       "\n"
      ],
      "text/plain": [
       ", , uno\n",
       "\n",
       "          primero segundo tercero\n",
       "izquierda       1       3       5\n",
       "derecha         2       4       6\n",
       "\n",
       ", , dos\n",
       "\n",
       "          primero segundo tercero\n",
       "izquierda       7       9      11\n",
       "derecha         8      10      12\n",
       "\n",
       ", , tres\n",
       "\n",
       "          primero segundo tercero\n",
       "izquierda      13      15      17\n",
       "derecha        14      16      18\n",
       "\n",
       ", , cuatro\n",
       "\n",
       "          primero segundo tercero\n",
       "izquierda      19      21      23\n",
       "derecha        20      22      24\n"
      ]
     },
     "metadata": {},
     "output_type": "display_data"
    }
   ],
   "source": [
    "(array_3d <- array(\n",
    "  1:24,\n",
    "  dim = c(2, 3, 4),\n",
    "  dimnames = list(\n",
    "    c(\"izquierda\", \"derecha\"),\n",
    "    c(\"primero\", \"segundo\", \"tercero\"),\n",
    "    c(\"uno\", \"dos\", \"tres\", \"cuatro\")\n",
    "  )\n",
    "))"
   ]
  },
  {
   "cell_type": "code",
   "execution_count": 2,
   "id": "7e8dfe48-c05e-4776-ba16-c16174e7e883",
   "metadata": {},
   "outputs": [
    {
     "data": {
      "text/html": [
       "<style>\n",
       ".list-inline {list-style: none; margin:0; padding: 0}\n",
       ".list-inline>li {display: inline-block}\n",
       ".list-inline>li:not(:last-child)::after {content: \"\\00b7\"; padding: 0 .5ex}\n",
       "</style>\n",
       "<ol class=list-inline><li>2</li><li>3</li><li>4</li></ol>\n"
      ],
      "text/latex": [
       "\\begin{enumerate*}\n",
       "\\item 2\n",
       "\\item 3\n",
       "\\item 4\n",
       "\\end{enumerate*}\n"
      ],
      "text/markdown": [
       "1. 2\n",
       "2. 3\n",
       "3. 4\n",
       "\n",
       "\n"
      ],
      "text/plain": [
       "[1] 2 3 4"
      ]
     },
     "metadata": {},
     "output_type": "display_data"
    },
    {
     "data": {
      "text/html": [
       "3"
      ],
      "text/latex": [
       "3"
      ],
      "text/markdown": [
       "3"
      ],
      "text/plain": [
       "[1] 3"
      ]
     },
     "metadata": {},
     "output_type": "display_data"
    }
   ],
   "source": [
    "dim(array_3d)\n",
    "length(dim(array_3d))"
   ]
  },
  {
   "cell_type": "code",
   "execution_count": 9,
   "id": "665c924b-7cf0-49e8-b4ee-a82b84746221",
   "metadata": {},
   "outputs": [
    {
     "data": {
      "text/html": [
       "<style>\n",
       ".list-inline {list-style: none; margin:0; padding: 0}\n",
       ".list-inline>li {display: inline-block}\n",
       ".list-inline>li:not(:last-child)::after {content: \"\\00b7\"; padding: 0 .5ex}\n",
       "</style>\n",
       "<ol class=list-inline><li>7</li><li>8</li><li>9</li><li>10</li><li>13</li><li>14</li><li>15</li><li>16</li></ol>\n"
      ],
      "text/latex": [
       "\\begin{enumerate*}\n",
       "\\item 7\n",
       "\\item 8\n",
       "\\item 9\n",
       "\\item 10\n",
       "\\item 13\n",
       "\\item 14\n",
       "\\item 15\n",
       "\\item 16\n",
       "\\end{enumerate*}\n"
      ],
      "text/markdown": [
       "1. 7\n",
       "2. 8\n",
       "3. 9\n",
       "4. 10\n",
       "5. 13\n",
       "6. 14\n",
       "7. 15\n",
       "8. 16\n",
       "\n",
       "\n"
      ],
      "text/plain": [
       ", , dos\n",
       "\n",
       "          primero segundo\n",
       "izquierda       7       9\n",
       "derecha         8      10\n",
       "\n",
       ", , tres\n",
       "\n",
       "          primero segundo\n",
       "izquierda      13      15\n",
       "derecha        14      16\n"
      ]
     },
     "metadata": {},
     "output_type": "display_data"
    }
   ],
   "source": [
    "array_3d[,1:2,c(2,3)]"
   ]
  },
  {
   "cell_type": "code",
   "execution_count": 4,
   "id": "19b4ab7a-ef45-4ec8-80f0-b8bd8c68984e",
   "metadata": {},
   "outputs": [
    {
     "data": {
      "text/html": [
       "<table class=\"dataframe\">\n",
       "<caption>A matrix: 3 × 2 of type int</caption>\n",
       "<thead>\n",
       "\t<tr><th></th><th scope=col>arriba</th><th scope=col>abajo</th></tr>\n",
       "</thead>\n",
       "<tbody>\n",
       "\t<tr><th scope=row>uno</th><td>1</td><td>4</td></tr>\n",
       "\t<tr><th scope=row>dos</th><td>2</td><td>5</td></tr>\n",
       "\t<tr><th scope=row>tres</th><td>3</td><td>6</td></tr>\n",
       "</tbody>\n",
       "</table>\n"
      ],
      "text/latex": [
       "A matrix: 3 × 2 of type int\n",
       "\\begin{tabular}{r|ll}\n",
       "  & arriba & abajo\\\\\n",
       "\\hline\n",
       "\tuno & 1 & 4\\\\\n",
       "\tdos & 2 & 5\\\\\n",
       "\ttres & 3 & 6\\\\\n",
       "\\end{tabular}\n"
      ],
      "text/markdown": [
       "\n",
       "A matrix: 3 × 2 of type int\n",
       "\n",
       "| <!--/--> | arriba | abajo |\n",
       "|---|---|---|\n",
       "| uno | 1 | 4 |\n",
       "| dos | 2 | 5 |\n",
       "| tres | 3 | 6 |\n",
       "\n"
      ],
      "text/plain": [
       "     arriba abajo\n",
       "uno  1      4    \n",
       "dos  2      5    \n",
       "tres 3      6    "
      ]
     },
     "metadata": {},
     "output_type": "display_data"
    }
   ],
   "source": [
    "(matriz <- matrix(\n",
    "  1:6,\n",
    "  nrow = 3, #ncol = 2 hace lo mismo\n",
    "  dimnames = list(\n",
    "    c(\"uno\", \"dos\", \"tres\"),\n",
    "    c(\"arriba\", \"abajo\")\n",
    "  )\n",
    "))"
   ]
  },
  {
   "cell_type": "code",
   "execution_count": 5,
   "id": "a3c1276f-d7c7-4cd1-9ea8-93e21d5605f9",
   "metadata": {},
   "outputs": [
    {
     "data": {
      "text/html": [
       "<style>\n",
       ".dl-inline {width: auto; margin:0; padding: 0}\n",
       ".dl-inline>dt, .dl-inline>dd {float: none; width: auto; display: inline-block}\n",
       ".dl-inline>dt::after {content: \":\\0020\"; padding-right: .5ex}\n",
       ".dl-inline>dt:not(:first-of-type) {padding-left: .5ex}\n",
       "</style><dl class=dl-inline><dt>uno</dt><dd>4</dd><dt>dos</dt><dd>5</dd><dt>tres</dt><dd>6</dd></dl>\n"
      ],
      "text/latex": [
       "\\begin{description*}\n",
       "\\item[uno] 4\n",
       "\\item[dos] 5\n",
       "\\item[tres] 6\n",
       "\\end{description*}\n"
      ],
      "text/markdown": [
       "uno\n",
       ":   4dos\n",
       ":   5tres\n",
       ":   6\n",
       "\n"
      ],
      "text/plain": [
       " uno  dos tres \n",
       "   4    5    6 "
      ]
     },
     "metadata": {},
     "output_type": "display_data"
    }
   ],
   "source": [
    "matriz[,2]"
   ]
  },
  {
   "cell_type": "code",
   "execution_count": 6,
   "id": "7bf100de-8caa-49aa-8489-76355c2f3744",
   "metadata": {},
   "outputs": [
    {
     "data": {
      "text/html": [
       "<table class=\"dataframe\">\n",
       "<caption>A matrix: 3 × 2 of type int</caption>\n",
       "<thead>\n",
       "\t<tr><th></th><th scope=col>arriba</th><th scope=col>abajo</th></tr>\n",
       "</thead>\n",
       "<tbody>\n",
       "\t<tr><th scope=row>uno</th><td>4</td><td>10</td></tr>\n",
       "\t<tr><th scope=row>dos</th><td>6</td><td>12</td></tr>\n",
       "\t<tr><th scope=row>tres</th><td>8</td><td>14</td></tr>\n",
       "</tbody>\n",
       "</table>\n"
      ],
      "text/latex": [
       "A matrix: 3 × 2 of type int\n",
       "\\begin{tabular}{r|ll}\n",
       "  & arriba & abajo\\\\\n",
       "\\hline\n",
       "\tuno & 4 & 10\\\\\n",
       "\tdos & 6 & 12\\\\\n",
       "\ttres & 8 & 14\\\\\n",
       "\\end{tabular}\n"
      ],
      "text/markdown": [
       "\n",
       "A matrix: 3 × 2 of type int\n",
       "\n",
       "| <!--/--> | arriba | abajo |\n",
       "|---|---|---|\n",
       "| uno | 4 | 10 |\n",
       "| dos | 6 | 12 |\n",
       "| tres | 8 | 14 |\n",
       "\n"
      ],
      "text/plain": [
       "     arriba abajo\n",
       "uno  4      10   \n",
       "dos  6      12   \n",
       "tres 8      14   "
      ]
     },
     "metadata": {},
     "output_type": "display_data"
    }
   ],
   "source": [
    "matriz2 <- matrix(\n",
    "  3:8,\n",
    "  nrow = 3, #ncol = 2 hace lo mismo\n",
    "  dimnames = list(\n",
    "    c(\"uno\", \"dos\", \"tres\"),\n",
    "    c(\"arriba\", \"abajo\")\n",
    "  )\n",
    ")\n",
    "\n",
    "matriz + matriz2"
   ]
  },
  {
   "cell_type": "code",
   "execution_count": null,
   "id": "8bcd8712-3ceb-44d5-b72f-66266ad5f839",
   "metadata": {},
   "outputs": [],
   "source": []
  }
 ],
 "metadata": {
  "kernelspec": {
   "display_name": "R",
   "language": "R",
   "name": "ir"
  },
  "language_info": {
   "codemirror_mode": "r",
   "file_extension": ".r",
   "mimetype": "text/x-r-source",
   "name": "R",
   "pygments_lexer": "r",
   "version": "4.3.3"
  }
 },
 "nbformat": 4,
 "nbformat_minor": 5
}
